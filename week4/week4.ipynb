{
 "cells": [
  {
   "cell_type": "code",
   "execution_count": 1,
   "metadata": {
    "scrolled": true
   },
   "outputs": [],
   "source": [
    "from wordcloud import WordCloud\n",
    "import matplotlib.pyplot as plt\n",
    "import jieba\n",
    "import re\n",
    "import os"
   ]
  },
  {
   "cell_type": "code",
   "execution_count": 2,
   "metadata": {},
   "outputs": [],
   "source": [
    "def is_chinese(uchar):         \n",
    "    if u'\\u4e00' <= uchar<=u'\\u9fff':\n",
    "        return True\n",
    "    else:\n",
    "        return False"
   ]
  },
  {
   "cell_type": "code",
   "execution_count": 3,
   "metadata": {},
   "outputs": [],
   "source": [
    "def one_word(word):\n",
    "    if len(word)==1:\n",
    "        return True\n",
    "    else:\n",
    "        return False"
   ]
  },
  {
   "cell_type": "code",
   "execution_count": 4,
   "metadata": {},
   "outputs": [],
   "source": [
    "currentPath = os.getcwd()\n",
    "# print(currentPath)\n",
    "data = open(currentPath+\"/tecoDisclosure.txt\", \"r\", encoding=\"utf-8\")\n",
    "data = data.read()"
   ]
  },
  {
   "cell_type": "code",
   "execution_count": 5,
   "metadata": {},
   "outputs": [
    {
     "ename": "NameError",
     "evalue": "name 're' is not defined",
     "output_type": "error",
     "traceback": [
      "\u001b[0;31m---------------------------------------------------------------------------\u001b[0m",
      "\u001b[0;31mNameError\u001b[0m                                 Traceback (most recent call last)",
      "\u001b[0;32m<ipython-input-5-94c241ca8763>\u001b[0m in \u001b[0;36m<module>\u001b[0;34m()\u001b[0m\n\u001b[0;32m----> 1\u001b[0;31m \u001b[0mregex\u001b[0m \u001b[0;34m=\u001b[0m \u001b[0mre\u001b[0m\u001b[0;34m.\u001b[0m\u001b[0mcompile\u001b[0m\u001b[0;34m(\u001b[0m\u001b[0;34mr'[\\n\\r\\t]'\u001b[0m\u001b[0;34m)\u001b[0m\u001b[0;34m\u001b[0m\u001b[0m\n\u001b[0m\u001b[1;32m      2\u001b[0m \u001b[0mdata\u001b[0m \u001b[0;34m=\u001b[0m \u001b[0mregex\u001b[0m\u001b[0;34m.\u001b[0m\u001b[0msub\u001b[0m\u001b[0;34m(\u001b[0m\u001b[0;34m\" \"\u001b[0m\u001b[0;34m,\u001b[0m \u001b[0mdata\u001b[0m\u001b[0;34m)\u001b[0m\u001b[0;34m\u001b[0m\u001b[0m\n\u001b[1;32m      3\u001b[0m \u001b[0mdata\u001b[0m\u001b[0;34m.\u001b[0m\u001b[0mreplace\u001b[0m\u001b[0;34m(\u001b[0m\u001b[0;34m\" \"\u001b[0m\u001b[0;34m,\u001b[0m\u001b[0;34m\"\"\u001b[0m\u001b[0;34m)\u001b[0m\u001b[0;34m\u001b[0m\u001b[0m\n\u001b[1;32m      4\u001b[0m \u001b[0mdata\u001b[0m\u001b[0;34m\u001b[0m\u001b[0m\n",
      "\u001b[0;31mNameError\u001b[0m: name 're' is not defined"
     ]
    }
   ],
   "source": [
    "regex = re.compile(r'[\\n\\r\\t]')\n",
    "data = regex.sub(\" \", data)\n",
    "data.replace(\" \",\"\")\n",
    "data\n"
   ]
  },
  {
   "cell_type": "code",
   "execution_count": null,
   "metadata": {},
   "outputs": [],
   "source": [
    "seg_list = jieba.cut(data, cut_all=False)  # 精确模式\n",
    "print(\"Default Mode: \" + \"/ \".join(seg_list))  "
   ]
  },
  {
   "cell_type": "code",
   "execution_count": null,
   "metadata": {},
   "outputs": [],
   "source": [
    "new_data=\"\"\n",
    "for d in data:\n",
    "    if is_chinese(d):\n",
    "        new_data+=d"
   ]
  },
  {
   "cell_type": "code",
   "execution_count": null,
   "metadata": {},
   "outputs": [],
   "source": [
    "stopwords = ['我', '對', '\\n',\"集團\",\"股份\",\"或\",\"資產\",\"有限公司\",\"年度\",\"公司\",\"準則\",\"註\",\"之\",\"及\",\"於\",\"年\",\"月\",\"日\",\"民國\",\"金\",\"包含\",\"型\",\"第號\",\"機\",\"未\",\"新\",\"型\",\"本\",\"為\",\"在\",\"已\",\"可能\",\"時\",\"解釋\",\n",
    "             \"支付\",\"當現\",\" \",\"係\",\"與\",\"按\",\"所\",\"致\",\"董\",\"災\",\"校\",\"以\",\"該\",\"有\"]\n",
    "\n",
    "puncs = '！？｡＂＃＄％＆＇（）＊＋，－／：；＜＝＞＠［＼］＾＿｀｛｜｝～｟｠｢｣､、〃》「」『』【】〔〕〖〗〘〙〚〛〜〝〞〟〰〾〿–—‘’‛“”„‟…‧﹏.。'\n",
    "\n",
    "addword = [\"或有負債\",\"不動產廠房及設備\",\"馬達\",\"其他綜合損益\",\"無形資產\",\"新台幣\",\"附註\",\"視聽\",\"合併\",\"東元電機\",\"股份有限公司\",\"財務報表\",\"國際\",\"國際會計準則\",\"仟元\",\"資產\",\"理事會\",\"國外營運機構\",\"財務\",\"所得稅\",\n",
    "           \"績效\",\"貨幣\",\"表達\",\"項目\",\"融資\",\"評估\",\"財務報告\",\"業務\",\"生產性植物\",\"其他\",\"遞延\",\"帳戶\",\"聯合營運\",\"揭露\",\"財務報導\",\"確定福利計畫\",\"可回收金額\",\"損益\",\"收入\",\"費用\",\"客戶\",\"合約\",\"營運\",\"融資\",\n",
    "           \"換算\",\"機構\",\"公允價值\",\"可靠\",\"衡量\",\"折現\",\"攤銷後成本\",\"避險會計\",\"公司債\",\"淨變現價值\",\"決定\",\"製成品\",\"重大\",\"設立\",\"公司治理\",\"租賃\",\"承租人\",\"歸屬\",\"編製\",\"負債\",\"合併報表\",\"備供出售\",\"金融\",\n",
    "           \"透過其他綜合損益\",\"發佈\",\"修正\",\"機械\",\"民國\"]\n",
    "\n",
    "delword = [\"董致\",\"致型\",\"致\",\"致致\",\"災致\",\"校董\",\"董校\",\"日月\",\"災型\",\"董災\",\"災災\",\"型型\",\"董型\",\"致校\",\"校型\",\"校致\",\"外本\",\"致災\",\"綜合損\",\"衡之融\",\"非動\",\"權法\",\"及其\",\"日止\"]\n",
    "for w in addword:\n",
    "    jieba.add_word(w, freq=None, tag=None)\n",
    "for w in delword:\n",
    "    jieba.del_word(w)"
   ]
  },
  {
   "cell_type": "code",
   "execution_count": null,
   "metadata": {},
   "outputs": [],
   "source": [
    "seg_list = jieba.cut(new_data, cut_all=False)\n",
    "seg_list = list(seg_list)\n",
    "print(seg_list)\n",
    "oneWord = list()\n",
    "for word in seg_list:\n",
    "    if one_word(word) and (word not in oneWord):\n",
    "        oneWord.append(word)\n"
   ]
  },
  {
   "cell_type": "code",
   "execution_count": null,
   "metadata": {},
   "outputs": [],
   "source": [
    "wordDict = {}\n",
    "for w in seg_list:\n",
    "    if (w not in stopwords) and (w not in puncs) and (w not in oneWord):\n",
    "        if w in wordDict:\n",
    "            wordDict[w] = wordDict[w] + 1\n",
    "        else:\n",
    "            wordDict[w] = 1\n",
    "ten = sorted(wordDict.items(), key=lambda x: x[1],reverse = True)\n",
    "ten"
   ]
  },
  {
   "cell_type": "code",
   "execution_count": null,
   "metadata": {},
   "outputs": [],
   "source": [
    "font = \"/System/Library/Fonts/PingFang.ttc\"\n",
    "wordcloud = WordCloud(background_color=\"white\",width=2000, height=1000, margin=2,font_path=font)\n",
    "wordcloud.fit_words(wordDict)\n",
    "plt.imshow(wordcloud)\n",
    "wordcloud.to_file('week4.png')"
   ]
  },
  {
   "cell_type": "code",
   "execution_count": null,
   "metadata": {},
   "outputs": [],
   "source": [
    "data = []\n",
    "for t in ten[:10]:\n",
    "    data.append(t[1])\n",
    "label = []\n",
    "for t in ten[:10]:\n",
    "    label.append(t[0])\n"
   ]
  },
  {
   "cell_type": "code",
   "execution_count": null,
   "metadata": {},
   "outputs": [],
   "source": [
    "plt.rcParams[\"font.sans-serif\"]=[\"SimHei\"]\n",
    "plt.figure(figsize=(10,6))\n",
    "plt.bar(range(0,10),data)\n",
    "plt.xticks(range(0,10),label,fontsize=20)"
   ]
  },
  {
   "cell_type": "code",
   "execution_count": null,
   "metadata": {},
   "outputs": [],
   "source": []
  }
 ],
 "metadata": {
  "kernelspec": {
   "display_name": "Python 3",
   "language": "python",
   "name": "python3"
  },
  "language_info": {
   "codemirror_mode": {
    "name": "ipython",
    "version": 3
   },
   "file_extension": ".py",
   "mimetype": "text/x-python",
   "name": "python",
   "nbconvert_exporter": "python",
   "pygments_lexer": "ipython3",
   "version": "3.6.5"
  }
 },
 "nbformat": 4,
 "nbformat_minor": 2
}
